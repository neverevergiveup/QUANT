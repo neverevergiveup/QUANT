import numpy as np
import pandas as pd
import talib #量化圈驰名的技术指标计算包,pip install ta-lib, 如果在线安装报错需要去网站下载.whl文件安装
import warnings
warnings.filterwarnings('ignore') #滤除告警
import akshare as ak


# 拉去沪深300日K数据
data_hs300 = ak.stock_zh_a_hist_163(symbol="sz399300", start_date="20150101", end_date="20221001")
data_hs300.set_index('日期', inplace=True)
# 通过这几个值能够计算:MA值（ema）、价格波动率（stddev）、价格斜率（slope）、RSI值（rsi）和威廉指标值（wr）
# 所以保留这四列，第五列涨跌幅用于生成标签
data_hs300 = data_hs300[['开盘价', '最高价', '最低价', '收盘价', '涨跌幅']]
# 根据涨跌幅，打上是否上涨的标签
data_hs300['rise'] = data_hs300['涨跌幅'].apply(lambda x : 1 if x>0 else 0)
# 以防万一，去除空数据，实际上没有
data_hs300.dropna(inplace=True)
print(data_hs300.head())
print('_'*77)



# 计算因子
# 使用著名的talib包
data_hs300['ema'] = talib.EMA(data_hs300['收盘价'].values, timeperiod = 20)
data_hs300['stddev'] = talib.STDDEV(data_hs300['收盘价'].values, timeperiod = 20, nbdev = 1)
data_hs300['slope'] = talib.LINEARREG_SLOPE(data_hs300['收盘价'].values, timeperiod = 5)
data_hs300['rsi'] = talib.RSI(data_hs300['收盘价'].values, timeperiod = 14)
data_hs300['wr'] = talib.WILLR(data_hs300['最高价'].values, data_hs300['最低价'].values, data_hs300['收盘价'].values, timeperiod = 7)
# 计算技术指标的时候，由于时间周期的设置，一定会产生nan值，要去除
data_hs300.dropna(inplace=True)
data_hs300.head(30)


#第三步
# 选择/建立模型就是需要确定自己这次使用哪种机器学习模型，是支持向量机SVM呢，还是神经网络NN呢，亦或是随机森林RF呢，或者其他的模型。
# 为了简便使用scikit-learn机器学习库


data_hs300.head(2)


# 第四步 训练和测试
# 4.1划分数据集
boundary = round(data_hs300.shape[0]*0.8)
train_data = data_hs300.iloc[:boundary, :]
test_data = data_hs300.iloc[boundary:, :]
# 4.2转换数据格式
# 需要将pandas的DataFrame格式转换为numpy的ndarray格式，这样才能训练
# 这里有.values方法，注意转换出来的数据结构，五个值变成了一组进行训练
train_val = train_data[['ema', 'stddev', 'slope', 'rsi', 'wr']].values
# 这里就没有,values
train_tag = train_data['rise']

# test
test_val = test_data[['ema', 'stddev', 'slope', 'rsi', 'wr']].values
test_tag = test_data['rise']

# 输出查看
print(train_val[0:3])
print(train_tag[0:3])
print('-'*77)
print(test_val[0:3])
print(test_tag[0:3])



# 第五步 标准化处理
# 避免某个因子的量纲过大，造成SVM对某些因子偏心
from sklearn.preprocessing import StandardScaler

print('---标准化之前---')
print('训练集均值：')
print(train_val.mean(axis=0))
print('训练集标准差:')
print(train_val.std(axis=0))

# 开始标准化
scaler = StandardScaler()
train_val = scaler.fit_transform(train_val)
test_val = scaler.transform(test_val)

print('---标准化之后---')
print('训练集均值：')
print(train_val.mean(axis=0))
print('训练集标准差:')
print(train_val.std(axis=0))


# 第六步 开始训练
from sklearn.svm import SVC

# 创建分类器实例
classifier = SVC(C=1.0, kernel='rbf')
# 调用fit函数进行训练
classifier.fit(train_val, train_tag)
print(classifier)


#  第七部 测试模型
#  分别使用训练集和测试集来做预测
train_val_predict = classifier.predict(train_val)
test_val_predict = classifier.predict(test_val)
train_data['pred'] = train_val_predict
test_data['pred'] = test_val_predict
# 计算准确率
accuracy_train = 100 * (train_data[train_data.rise == train_data.pred].shape[0]/train_data.shape[0])
accuracy_test = 100 * (test_data[test_data.rise == test_data.pred].shape[0]/train_data.shape[0])
print('训练集预测准确率：' + str(accuracy_train))
print('测试集预测准确率：' + str(accuracy_test))



