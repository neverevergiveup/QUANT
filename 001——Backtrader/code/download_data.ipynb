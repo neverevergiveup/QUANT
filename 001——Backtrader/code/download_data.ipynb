{
 "cells": [
  {
   "cell_type": "code",
   "execution_count": 2,
   "id": "773ec130-a4ba-485b-bf75-4ababbe2b6c2",
   "metadata": {
    "collapsed": true,
    "jupyter": {
     "outputs_hidden": true
    },
    "tags": []
   },
   "outputs": [
    {
     "name": "stdout",
     "output_type": "stream",
     "text": [
      "             日期     开盘     收盘     最高     最低      成交量           成交额    振幅  \\\n",
      "0    2022-01-04  16.48  16.66  16.66  16.18  1169259  1.918887e+09  2.91   \n",
      "1    2022-01-05  16.58  17.15  17.22  16.55  1961998  3.344125e+09  4.02   \n",
      "2    2022-01-06  17.11  17.12  17.27  17.00  1107885  1.896536e+09  1.57   \n",
      "3    2022-01-07  17.10  17.20  17.28  17.06  1126631  1.937711e+09  1.29   \n",
      "4    2022-01-10  17.29  17.19  17.42  17.03   909774  1.563415e+09  2.27   \n",
      "..          ...    ...    ...    ...    ...      ...           ...   ...   \n",
      "157  2022-08-26  12.68  12.61  12.75  12.46   927634  1.168951e+09  2.30   \n",
      "158  2022-08-29  12.50  12.42  12.56  12.31   924491  1.145189e+09  1.98   \n",
      "159  2022-08-30  12.43  12.48  12.54  12.28   799712  9.914476e+08  2.09   \n",
      "160  2022-08-31  12.38  12.75  12.78  12.36  1653042  2.091408e+09  3.37   \n",
      "161  2022-09-01  12.65  12.61  12.79  12.58   861982  1.092666e+09  1.65   \n",
      "\n",
      "      涨跌幅   涨跌额   换手率  \n",
      "0    1.09  0.18  0.60  \n",
      "1    2.94  0.49  1.01  \n",
      "2   -0.17 -0.03  0.57  \n",
      "3    0.47  0.08  0.58  \n",
      "4   -0.06 -0.01  0.47  \n",
      "..    ...   ...   ...  \n",
      "157 -0.08 -0.01  0.48  \n",
      "158 -1.51 -0.19  0.48  \n",
      "159  0.48  0.06  0.41  \n",
      "160  2.16  0.27  0.85  \n",
      "161 -1.10 -0.14  0.44  \n",
      "\n",
      "[162 rows x 11 columns]\n"
     ]
    }
   ],
   "source": [
    "import akshare as ak\n",
    "\n",
    "stock_zh_a_hist_df = ak.stock_zh_a_hist(symbol=\"000001\", \n",
    "                                        period=\"daily\", \n",
    "                                        start_date=\"20220101\",\n",
    "                                        end_date='20220901', \n",
    "                                        adjust=\"\")\n",
    "print(stock_zh_a_hist_df)"
   ]
  },
  {
   "cell_type": "code",
   "execution_count": 5,
   "id": "5076c242-bc7a-4f35-9cd6-559a4ae445c6",
   "metadata": {},
   "outputs": [],
   "source": [
    "stock_zh_a_hist_df.to_csv('../data/000001.csv', index=False, encoding='gbk')"
   ]
  },
  {
   "cell_type": "code",
   "execution_count": null,
   "id": "cdd7a8fa-6689-4003-bb81-ee559a3ab809",
   "metadata": {},
   "outputs": [],
   "source": []
  }
 ],
 "metadata": {
  "kernelspec": {
   "display_name": "Python 3 (ipykernel)",
   "language": "python",
   "name": "python3"
  },
  "language_info": {
   "codemirror_mode": {
    "name": "ipython",
    "version": 3
   },
   "file_extension": ".py",
   "mimetype": "text/x-python",
   "name": "python",
   "nbconvert_exporter": "python",
   "pygments_lexer": "ipython3",
   "version": "3.10.6"
  }
 },
 "nbformat": 4,
 "nbformat_minor": 5
}
