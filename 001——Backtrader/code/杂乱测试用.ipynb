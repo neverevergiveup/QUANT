{
 "cells": [
  {
   "cell_type": "code",
   "execution_count": 1,
   "id": "1230fbaa-6356-4342-bf6a-9f93fc6cca0b",
   "metadata": {},
   "outputs": [
    {
     "name": "stdout",
     "output_type": "stream",
     "text": [
      "<class '__main__.ModelMeta'>\n",
      "A\n",
      "()\n",
      "{'__module__': '__main__', '__qualname__': 'A', 'x': 999, '__init__': <function A.__init__ at 0x00000255904DE7A0>}\n",
      "==============================\n",
      "<class '__main__.ModelMeta'>\n",
      "B\n",
      "(<class '__main__.A'>,)\n",
      "{'__module__': '__main__', '__qualname__': 'B', '__init__': <function B.__init__ at 0x00000255904DF130>}\n",
      "==============================\n",
      "<class '__main__.ModelMeta'>\n",
      "C\n",
      "()\n",
      "{'x': 999}\n",
      "==============================\n"
     ]
    }
   ],
   "source": [
    "# 创建元类，ModelMeta是元类，因为继承自type\n",
    "# 我们把ModelMeta当作元类模版\n",
    "class ModelMeta(type):\n",
    "    \n",
    "    # 因为继承自type，参数与type元类一样\n",
    "    # 在__new__中可以改变构建普通类时的行为\n",
    "    def __new__(cls, name, bases, _dict):\n",
    "        print(cls)\n",
    "        print(name)\n",
    "        print(bases)\n",
    "        print(_dict)\n",
    "        \n",
    "        # 注意这里和普通类调用super不同: return super().__new__(cls)\n",
    "        return super().__new__(cls, name, bases, _dict)\n",
    "        # 或者\n",
    "        #return type.__new__(cls, name, bases, _dict)\n",
    "\n",
    "# 1、用metaclass关键字参数创建一个元类\n",
    "# 这里的写法表示A这个类是被元类ModelMeta构建的，而不是继承\n",
    "# 这种写法是用元类构建一个类A，所以元类里的__new__实例化方法会执行\n",
    "# 即元类实例化出来的东西是另一个普通类(而不是一个类的实例)\n",
    "# A是普通类\n",
    "class A(metaclass=ModelMeta):\n",
    "    x = 999\n",
    "    def __init__(self):\n",
    "        print('A.init')\n",
    "\n",
    "print('=' * 30)\n",
    "# 2、继承\n",
    "# 这里才表示正常的类的继承，\n",
    "# 但是B的构建路线是：ModelMeta->构建A->继承到B\n",
    "# B是普通类\n",
    "class B(A):\n",
    "    def __init__(self):\n",
    "        print('B.init')\n",
    "        \n",
    "print('=' * 30)\n",
    "# 3、元类模版也可以使用调用语法，创建新类，就像type那样\n",
    "# C是普通类\n",
    "C = ModelMeta('C', (), {'x':999})\n",
    "\n",
    "print('=' * 30)\n",
    "# 4、继承元类\n",
    "# D继承自元类ModelMeta，所以D也是一个元类(这里是继承而不是用元类构建D)\n",
    "# 因为是继承，元类ModelMeta的__new__不会执行\n",
    "class D(ModelMeta):\n",
    "    pass\n"
   ]
  },
  {
   "cell_type": "code",
   "execution_count": 5,
   "id": "a9895cc7-3f96-4025-9aa2-4083d5d4ed78",
   "metadata": {},
   "outputs": [
    {
     "ename": "NameError",
     "evalue": "name 'name' is not defined",
     "output_type": "error",
     "traceback": [
      "\u001b[1;31m---------------------------------------------------------------------------\u001b[0m",
      "\u001b[1;31mNameError\u001b[0m                                 Traceback (most recent call last)",
      "Cell \u001b[1;32mIn [5], line 1\u001b[0m\n\u001b[1;32m----> 1\u001b[0m \u001b[38;5;28;01mclass\u001b[39;00m \u001b[38;5;21;01mPerson\u001b[39;00m(\u001b[43mname\u001b[49m):\n\u001b[0;32m      2\u001b[0m     \u001b[38;5;28;01mdef\u001b[39;00m \u001b[38;5;21m_init_\u001b[39m(myname,name):\n\u001b[0;32m      3\u001b[0m         myname\u001b[38;5;241m.\u001b[39mname\u001b[38;5;241m=\u001b[39mname\n",
      "\u001b[1;31mNameError\u001b[0m: name 'name' is not defined"
     ]
    }
   ],
   "source": [
    "class Person(name):\n",
    "    def _init_(myname,name):\n",
    "        myname.name=name\n",
    "    def sayhello(myname):\n",
    "        print('My name is:',myname.name)\n",
    "p=Person('Bill')\n",
    "print(p)\n"
   ]
  },
  {
   "cell_type": "code",
   "execution_count": null,
   "id": "51930d52-b6e3-425d-a8fd-eebb73e6f6f1",
   "metadata": {},
   "outputs": [],
   "source": []
  }
 ],
 "metadata": {
  "kernelspec": {
   "display_name": "Python 3 (ipykernel)",
   "language": "python",
   "name": "python3"
  },
  "language_info": {
   "codemirror_mode": {
    "name": "ipython",
    "version": 3
   },
   "file_extension": ".py",
   "mimetype": "text/x-python",
   "name": "python",
   "nbconvert_exporter": "python",
   "pygments_lexer": "ipython3",
   "version": "3.10.6"
  }
 },
 "nbformat": 4,
 "nbformat_minor": 5
}
